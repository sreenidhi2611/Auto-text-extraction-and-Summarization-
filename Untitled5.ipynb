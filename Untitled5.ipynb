{
  "nbformat": 4,
  "nbformat_minor": 0,
  "metadata": {
    "colab": {
      "provenance": []
    },
    "kernelspec": {
      "name": "python3",
      "display_name": "Python 3"
    },
    "language_info": {
      "name": "python"
    }
  },
  "cells": [
    {
      "cell_type": "code",
      "execution_count": null,
      "metadata": {
        "id": "kWghQ3857u9p",
        "colab": {
          "base_uri": "https://localhost:8080/"
        },
        "outputId": "7b209cf3-1a0b-4a91-9a0b-bd0f33b5920b"
      },
      "outputs": [
        {
          "output_type": "stream",
          "name": "stdout",
          "text": [
            "Mounted at /content/drive/\n"
          ]
        }
      ],
      "source": [
        "from google.colab import drive\n",
        "drive.mount('/content/drive/')"
      ]
    },
    {
      "cell_type": "code",
      "source": [
        "!pip install PyPDF2\n",
        "\n"
      ],
      "metadata": {
        "id": "7zALeVurRsAJ"
      },
      "execution_count": null,
      "outputs": []
    },
    {
      "cell_type": "code",
      "source": [
        "!pip install --upgrade pdfminer.six\n"
      ],
      "metadata": {
        "id": "jWl6ljItRys1"
      },
      "execution_count": null,
      "outputs": []
    },
    {
      "cell_type": "code",
      "source": [
        "!pip install PyMuPDF"
      ],
      "metadata": {
        "id": "Q9RKWWkcSfnM"
      },
      "execution_count": null,
      "outputs": []
    },
    {
      "cell_type": "code",
      "source": [
        "from operator import itemgetter\n",
        "import fitz\n",
        "import json\n",
        "\n",
        "\n",
        "def fonts(doc, granularity=False):\n",
        "    \"\"\"Extracts fonts and their usage in PDF documents.\n",
        "\n",
        "    :param doc: PDF document to iterate through\n",
        "    :type doc: <class 'fitz.fitz.Document'>\n",
        "    :param granularity: also use 'font', 'flags' and 'color' to discriminate text\n",
        "    :type granularity: bool\n",
        "\n",
        "    :rtype: [(font_size, count), (font_size, count}], dict\n",
        "    :return: most used fonts sorted by count, font style information\n",
        "    \"\"\"\n",
        "    styles = {}\n",
        "    font_counts = {}\n",
        "\n",
        "    for page in doc:\n",
        "        blocks = page.get_text(\"dict\")[\"blocks\"]\n",
        "        for b in blocks:  # iterate through the text blocks\n",
        "            if b['type'] == 0:  # block contains text\n",
        "                for l in b[\"lines\"]:  # iterate through the text lines\n",
        "                    for s in l[\"spans\"]:  # iterate through the text spans\n",
        "                        if granularity:\n",
        "                            identifier = \"{0}_{1}_{2}_{3}\".format(s['size'], s['flags'], s['font'], s['color'])\n",
        "                            styles[identifier] = {'size': s['size'], 'flags': s['flags'], 'font': s['font'],\n",
        "                                                  'color': s['color']}\n",
        "                        else:\n",
        "                            identifier = \"{0}\".format(s['size'])\n",
        "                            styles[identifier] = {'size': s['size'], 'font': s['font']}\n",
        "\n",
        "                        font_counts[identifier] = font_counts.get(identifier, 0) + 1  # count the fonts usage\n",
        "\n",
        "    font_counts = sorted(font_counts.items(), key=itemgetter(1), reverse=True)\n",
        "\n",
        "    if len(font_counts) < 1:\n",
        "        raise ValueError(\"Zero discriminating fonts found!\")\n",
        "\n",
        "    return font_counts, styles\n",
        "\n",
        "\n",
        "def font_tags(font_counts, styles):\n",
        "    \"\"\"Returns dictionary with font sizes as keys and tags as value.\n",
        "\n",
        "    :param font_counts: (font_size, count) for all fonts occuring in document\n",
        "    :type font_counts: list\n",
        "    :param styles: all styles found in the document\n",
        "    :type styles: dict\n",
        "\n",
        "    :rtype: dict\n",
        "    :return: all element tags based on font-sizes\n",
        "    \"\"\"\n",
        "    p_style = styles[font_counts[0][0]]  # get style for most used font by count (paragraph)\n",
        "    p_size = p_style['size']  # get the paragraph's size\n",
        "\n",
        "    # sorting the font sizes high to low, so that we can append the right integer to each tag\n",
        "    font_sizes = []\n",
        "    for (font_size, count) in font_counts:\n",
        "        font_sizes.append(float(font_size))\n",
        "    font_sizes.sort(reverse=True)\n",
        "\n",
        "    # aggregating the tags for each font size\n",
        "    idx = 0\n",
        "    size_tag = {}\n",
        "    for size in font_sizes:\n",
        "        idx += 1\n",
        "        if size == p_size:\n",
        "            idx = 0\n",
        "            size_tag[size] = '<p>'\n",
        "        if size > p_size:\n",
        "            size_tag[size] = '<h{0}>'.format(idx)\n",
        "        elif size < p_size:\n",
        "            size_tag[size] = '<s{0}>'.format(idx)\n",
        "\n",
        "    return size_tag\n",
        "\n",
        "\n",
        "def headers_para(doc, size_tag):\n",
        "    \"\"\"Scrapes headers & paragraphs from PDF and return texts with element tags.\n",
        "\n",
        "    :param doc: PDF document to iterate through\n",
        "    :type doc: <class 'fitz.fitz.Document'>\n",
        "    :param size_tag: textual element tags for each size\n",
        "    :type size_tag: dict\n",
        "\n",
        "    :rtype: list\n",
        "    :return: texts with pre-prended element tags\n",
        "    \"\"\"\n",
        "    header_para = []  # list with headers and paragraphs\n",
        "    first = True  # boolean operator for first header\n",
        "    previous_s = {}  # previous span\n",
        "\n",
        "    for page in doc:\n",
        "        blocks = page.get_text(\"dict\")[\"blocks\"]\n",
        "        for b in blocks:  # iterate through the text blocks\n",
        "            if b['type'] == 0:  # this block contains text\n",
        "\n",
        "                # REMEMBER: multiple fonts and sizes are possible IN one block\n",
        "\n",
        "                block_string = \"\"  # text found in block\n",
        "                for l in b[\"lines\"]:  # iterate through the text lines\n",
        "                    for s in l[\"spans\"]:  # iterate through the text spans\n",
        "                        if s['text'].strip():  # removing whitespaces:\n",
        "                            if first:\n",
        "                                previous_s = s\n",
        "                                first = False\n",
        "                                block_string = size_tag[s['size']] + s['text']\n",
        "                            else:\n",
        "                                if s['size'] == previous_s['size']:\n",
        "\n",
        "                                    if block_string and all((c == \"|\") for c in block_string):\n",
        "                                        # block_string only contains pipes\n",
        "                                        block_string = size_tag[s['size']] + s['text']\n",
        "                                    if block_string == \"\":\n",
        "                                        # new block has started, so append size tag\n",
        "                                        block_string = size_tag[s['size']] + s['text']\n",
        "                                    else:  # in the same block, so concatenate strings\n",
        "                                        block_string += \" \" + s['text']\n",
        "\n",
        "                                else:\n",
        "                                    header_para.append(block_string)\n",
        "                                    block_string = size_tag[s['size']] + s['text']\n",
        "\n",
        "                                previous_s = s\n",
        "\n",
        "                    # new block started, indicating with a pipe\n",
        "                    block_string += \"|\"\n",
        "\n",
        "                header_para.append(block_string)\n",
        "\n",
        "    return header_para\n",
        "\n",
        "\n",
        "def main():\n",
        "\n",
        "    document = \"/content/drive/MyDrive/s12874-020-01076-x.pdf\"\n",
        "    doc = fitz.open(document)\n",
        "\n",
        "    font_counts, styles = fonts(doc, granularity=False)\n",
        "\n",
        "    size_tag = font_tags(font_counts, styles)\n",
        "\n",
        "    elements = headers_para(doc, size_tag)\n",
        "\n",
        "    with open(\"doc.json\", 'w') as json_out:\n",
        "        json.dump(elements, json_out)\n",
        "\n",
        "\n",
        "if __name__ == '__main__':\n",
        "    main()\n"
      ],
      "metadata": {
        "id": "Rz9lPT2GUc2J"
      },
      "execution_count": null,
      "outputs": []
    },
    {
      "cell_type": "code",
      "source": [
        "import json\n",
        "\n",
        "# Load the content of the JSON file\n",
        "with open(\"doc.json\", 'r') as json_file:\n",
        "    content = json.load(json_file)\n",
        "\n",
        "# Print the content\n",
        "for item in content:\n",
        "    print(item)\n"
      ],
      "metadata": {
        "id": "M2NXCWsAUjjQ"
      },
      "execution_count": null,
      "outputs": []
    },
    {
      "cell_type": "code",
      "source": [
        "import json\n",
        "\n",
        "# Load the content of the JSON file\n",
        "with open(\"doc.json\", 'r') as json_file:\n",
        "    content = json.load(json_file)\n",
        "\n",
        "# Extract headers and subscripts\n",
        "headers_subscripts = [item for item in content if \"<h\" in item or \"<s\" in item]\n",
        "\n",
        "# Print the extracted headers and subscripts\n",
        "for item in headers_subscripts:\n",
        "    print(item)\n"
      ],
      "metadata": {
        "id": "XKwXMzjZUmtT"
      },
      "execution_count": null,
      "outputs": []
    },
    {
      "cell_type": "code",
      "source": [
        "import json\n",
        "\n",
        "# Load the content of the JSON file\n",
        "with open(\"doc.json\", 'r') as json_file:\n",
        "    content = json.load(json_file)\n",
        "\n",
        "# Define the keywords\n",
        "keywords = [\"Introduction\", \"Abstract\", \"Result\", \"Background\", \"Conclusion\", \"Method\", \"Methodology\",\n",
        "            \"Materials and methods\", \"Results and discussion\", \"Discussion\"]\n",
        "\n",
        "# Extract headers and subscripts containing keywords and excluding <p> tags\n",
        "filtered_items = []\n",
        "for item in content:\n",
        "    if \"<p>\" not in item:  # Exclude items containing <p> tags\n",
        "        for keyword in keywords:\n",
        "            if keyword.lower() in item.lower():\n",
        "                filtered_items.append(item)\n",
        "                break  # Move to the next item once a keyword is found\n",
        "\n",
        "# Print the filtered items\n",
        "for item in filtered_items:\n",
        "    print(item)\n"
      ],
      "metadata": {
        "id": "2wiI3pEuUqzf"
      },
      "execution_count": null,
      "outputs": []
    },
    {
      "cell_type": "code",
      "source": [
        "import json\n",
        "\n",
        "# Load the content of the JSON file\n",
        "with open(\"doc.json\", 'r') as json_file:\n",
        "    content = json.load(json_file)\n",
        "\n",
        "# Define the keywords\n",
        "keywords = [\"Introduction\", \"Abstract\", \"Result\", \"Background\", \"Conclusion\", \"Method\", \"Methodology\",\n",
        "            \"Materials and methods\", \"Results and discussion\", \"Discussion\"]\n",
        "\n",
        "# Extract headers containing keywords and excluding <p> and <s> tags\n",
        "filtered_items = []\n",
        "for item in content:\n",
        "    if \"<p>\" not in item and \"<s>\" not in item:  # Exclude items containing <p> or <s> tags\n",
        "        for keyword in keywords:\n",
        "            if keyword.lower() in item.lower():\n",
        "                filtered_items.append(item.strip())\n",
        "                break  # Move to the next item once a keyword is found\n",
        "\n",
        "# Print the filtered items\n",
        "for item in filtered_items:\n",
        "    print(item)\n"
      ],
      "metadata": {
        "id": "fdQgmeqLUvFF"
      },
      "execution_count": null,
      "outputs": []
    },
    {
      "cell_type": "code",
      "source": [
        "import json\n",
        "import re\n",
        "\n",
        "# Function to remove HTML tags\n",
        "def remove_html_tags(text):\n",
        "    clean = re.compile('<.*?>')\n",
        "    return re.sub(clean, '', text)\n",
        "\n",
        "# Load the content of the JSON file\n",
        "with open(\"doc.json\", 'r') as json_file:\n",
        "    content = json.load(json_file)\n",
        "\n",
        "# Define the keywords\n",
        "keywords = [\"Introduction\", \"Abstract\", \"Result\", \"Background\", \"Conclusion\", \"Method\", \"Methodology\",\n",
        "            \"Materials and methods\", \"Results and discussion\", \"Discussion\"]\n",
        "\n",
        "# Extract headers containing keywords and excluding <p> and <s> tags\n",
        "filtered_items = []\n",
        "for item in content:\n",
        "    if \"<p>\" not in item and \"<s>\" not in item:  # Exclude items containing <p> or <s> tags\n",
        "        if any(keyword.lower() in item.lower() for keyword in keywords):\n",
        "            # Remove HTML tags and append to filtered_items\n",
        "            filtered_item = remove_html_tags(item)\n",
        "            filtered_items.append(filtered_item.strip())\n",
        "\n",
        "# Print the filtered items\n",
        "for item in filtered_items:\n",
        "    print(item)\n"
      ],
      "metadata": {
        "id": "bIRhzuFMUyGE"
      },
      "execution_count": null,
      "outputs": []
    }
  ]
}